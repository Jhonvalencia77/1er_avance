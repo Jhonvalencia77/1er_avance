{
 "cells": [
  {
   "cell_type": "code",
   "execution_count": 2,
   "id": "25a83033",
   "metadata": {},
   "outputs": [],
   "source": [
    "import pandas as pd\n",
    "import numpy as np"
   ]
  },
  {
   "cell_type": "code",
   "execution_count": 19,
   "id": "95fceb1f",
   "metadata": {},
   "outputs": [],
   "source": [
    "#Creamos la función\n",
    "def concatenar(start,end,verbose=False):    \n",
    "    #Decimos la ruta de los archivos\n",
    "    #basepath = \"/media/jonathan/JHON/Tesis/DatosTesis/raw_data/%.4d%.2d%.2d_maestra_1_mitma_distrito.csv\"\n",
    "    basepath = \"/media/jonathan/JHON/Tesis/DatosTesis/MatrizDeViajes/Distritos/Periodos/%.4d%.2d%.2d_maestra_1_mitma_distrito.csv\"\n",
    "    #Definimos una lista con las fehas de inicio y final que se analizarán, esta lista se guardará en \"dates\"\n",
    "    dates = pd.date_range(start, end)\n",
    "    \n",
    "    #El simbolo % es el operador de modulo(residuo de un problema de división) \n",
    "    #El simbolo % en cadenas compara si dos textos son iguales y arroja un True or False(Carro=Caro->False)\n",
    "    #Se hace un ciclo for para capturar cada timestamp y luego se pasa cada una de las fechas al basepath\n",
    "    paths = [basepath % (timestamp.year, timestamp.month, timestamp.day) for timestamp in dates]\n",
    "\n",
    "    n = 0\n",
    "    \n",
    "    #Creamos 2 dataframe vacios\n",
    "    timeseries_o = pd.DataFrame({})\n",
    "    timeseries_d = pd.DataFrame({})\n",
    "    \n",
    "    #Hacemos un recorrido por cada uno de los paths (nombre completo del archivo) \n",
    "    for path in paths:\n",
    "        \n",
    "        #Verifica si la variable de función \"verbose esta en True\", Si es asi entonces imprime el porcentaje de archivos concatenados\n",
    "        if verbose: print(path, \"%.2f%%\" % (float(n) * 100 / len(paths)))\n",
    "        \n",
    "        #Leemos cada uno de los archivos csv y lo guardamos en la variable \"data\"\n",
    "        #Le datos a las columnas de fEcha, origen y destino un formato tipo string        \n",
    "        \n",
    "        data = pd.read_csv(path, dtype={\"fecha\": str,\n",
    "                                        \"origen\": str,\n",
    "                                        \"destino\": str}, sep='|',index_col=0)\n",
    "                \n",
    "        data = data[data.distancia >= \"002-005\"]\n",
    "        \n",
    "                \n",
    "        columnas=[\"19024\",\"19046_AM\",\"19053_AM\",\"19058_AM\",\"19071_AM\",\"19086_AM\",\"1913001\",\"1913002\",\"1913003\",\"1913004\",\"1913005\",\"19151_AM\",\"19156_AM\",\"19160_AM\",\"19171\",\"19190_AM\",\"19192_AM\",\"19220_AM\",\"19245_AM\",\"19257_AM\",\"19274_AM\",\"19280_AM\",\"19319\",\"19326_AM\",\"19331_AM\",\"28002\",\"28004\",\"2800501\",\"2800502\",\"2800503\",\"2800504\",\"2800505\",\"2800601\",\"2800701\",\"2800702\",\"2800703\",\"2800704\",\"28008_AM\",\"28009\",\"28010\",\"2801301\",\"2801302\",\"2801303\",\"2801304\",\"28014\",\"28015\",\"28018\",\"28022\",\"28023\",\"28026\",\"28027_AM\",\"28030_AM\",\"28031_AM\",\"28032_AM\",\"28033\",\"28038_AM\",\"28040\",\"28041\",\"28043\",\"28044\",\"28045\",\"28046\",\"28047\",\"2804901\",\"2804902\",\"2804903_AD\",\"28050_AM\",\"28052_AM\",\"28053\",\"28054\",\"2805801\",\"2805802\",\"2805803\",\"2805804\",\"2805805\",\"2805806\",\"2805807\",\"2805808\",\"2805809\",\"28059\",\"28060_AM\",\"28061\",\"2806501\",\"2806502\",\"2806503\",\"2806504\",\"28066\",\"28067_AM\",\"28068\",\"28072\",\"28073\",\"2807401\",\"2807402\",\"2807403\",\"2807404\",\"2807405\",\"2807406\",\"2807407\",\"28075\",\"2807901\",\"2807902\",\"2807903\",\"2807904\",\"2807905\",\"2807906\",\"2807907\",\"2807908\",\"2807909\",\"2807910\",\"2807911\",\"2807912\",\"2807913\",\"2807914\",\"2807915\",\"2807916\",\"2807917\",\"2807918\",\"2807919\",\"2807920\",\"2807921\",\"2808001\",\"2808002\",\"28082\",\"28083\",\"28084\",\"28085_AM\",\"28086\",\"28087\",\"28089\",\"28090\",\"28091\",\"2809201\",\"2809202\",\"2809203\",\"2809204\",\"28095_AM\",\"28096\",\"28099_AM\",\"28100\",\"28104\",\"2810601\",\"28108\",\"28110_AM\",\"2811301\",\"2811302\",\"2811501\",\"2811502\",\"28119_AM\",\"2812301\",\"28125_AM\",\"2812701\",\"28129\",\"28130\",\"28131\",\"28132\",\"28133_AM\",\"2813401\",\"28137_AM\",\"28140_AM\",\"28141\",\"28144\",\"28145_AM\",\"2814801\",\"2814802\",\"2814803\",\"2814804\",\"28149\",\"28150\",\"28151_AM\",\"28152\",\"28154\",\"28160\",\"2816101\",\"2816102\",\"28162_AM\",\"28164\",\"28165_AM\",\"28167\",\"28171\",\"28172\",\"28176\",\"28177\",\"28180\",\"28181\",\"28901_AM\",\"28903\"]\n",
    "        \n",
    "        filtrado = pd.DataFrame({})\n",
    "        for col in columnas:        \n",
    "            filtrar = data.loc[data.loc[:,'origen'] == col]\n",
    "            print(filtrar.head(10))\n",
    "            filtrado=filtrado.append(filtrar)    \n",
    "        \n",
    "        #print(filtrado.head(10))\n",
    "        \n",
    "        \n",
    "        timeseries_o = timeseries_o.append(filtrado)\n",
    "        \n",
    "        \n",
    "       \n",
    "        \n",
    "    return timeseries_o"
   ]
  },
  {
   "cell_type": "code",
   "execution_count": 20,
   "id": "4224ab4b",
   "metadata": {},
   "outputs": [
    {
     "name": "stdout",
     "output_type": "stream",
     "text": [
      "         origen   destino actividad_origen actividad_destino  residencia  \\\n",
      "fecha                                                                      \n",
      "20200214  19024   0200304            otros             otros          46   \n",
      "20200214  19024     02009            otros              casa           2   \n",
      "20200214  19024  02021_AM            otros             otros          19   \n",
      "20200214  19024  02069_AM            otros             otros          30   \n",
      "20200214  19024   0301407            otros             otros          30   \n",
      "20200214  19024   0303102             casa             otros          19   \n",
      "20200214  19024   0303103             casa             otros          19   \n",
      "20200214  19024     03050            otros             otros          17   \n",
      "20200214  19024   0306507            otros             otros           4   \n",
      "20200214  19024   0309905             casa             otros          19   \n",
      "\n",
      "          edad  periodo distancia  viajes  viajes_km  \n",
      "fecha                                                 \n",
      "20200214   NaN       15      100+   5.862   1248.510  \n",
      "20200214   NaN       11      100+   5.726   1512.789  \n",
      "20200214   NaN       17      100+   6.851   1503.224  \n",
      "20200214   NaN       21      100+   6.257   1117.777  \n",
      "20200214   NaN       15      100+   7.052   2409.314  \n",
      "20200214   NaN        8      100+   6.245   2199.827  \n",
      "20200214   NaN        5      100+   6.245   2206.237  \n",
      "20200214   NaN        0      100+   2.672    919.146  \n",
      "20200214   NaN       21      100+   6.485   2193.876  \n",
      "20200214   NaN       20      100+   6.245   2281.953  \n"
     ]
    },
    {
     "name": "stderr",
     "output_type": "stream",
     "text": [
      "/tmp/ipykernel_26756/3830791109.py:42: FutureWarning: The frame.append method is deprecated and will be removed from pandas in a future version. Use pandas.concat instead.\n",
      "  filtrado=filtrado.append(filtrar)\n"
     ]
    },
    {
     "name": "stdout",
     "output_type": "stream",
     "text": [
      "            origen  destino actividad_origen actividad_destino  residencia  \\\n",
      "fecha                                                                        \n",
      "20200214  19046_AM  0105905            otros              casa           1   \n",
      "20200214  19046_AM  0200301            otros             otros          19   \n",
      "20200214  19046_AM  0200302            otros             otros          19   \n",
      "20200214  19046_AM  0200302            otros             otros          19   \n",
      "20200214  19046_AM  0200302            otros             otros          28   \n",
      "20200214  19046_AM  0200307            otros              casa           2   \n",
      "20200214  19046_AM  0200308            otros              casa           2   \n",
      "20200214  19046_AM  0200308            otros             otros          19   \n",
      "20200214  19046_AM    02009            otros             otros          30   \n",
      "20200214  19046_AM    02025            otros             otros          30   \n",
      "\n",
      "          edad  periodo distancia  viajes  viajes_km  \n",
      "fecha                                                 \n",
      "20200214   NaN        1      100+   8.646   2272.021  \n",
      "20200214   NaN       14      100+   6.851   1427.252  \n",
      "20200214   NaN       10      100+   4.929   1039.726  \n",
      "20200214   NaN       18      100+   7.385   1562.892  \n",
      "20200214   NaN       20      100+   4.865   1026.577  \n",
      "20200214   NaN       15      100+   7.084   1510.522  \n",
      "20200214   NaN       15      100+   2.532    522.692  \n",
      "20200214   NaN       15      100+   7.250   1605.882  \n",
      "20200214   NaN       22      100+   5.842   1532.265  \n",
      "20200214   NaN       13      100+   8.557   2436.539  \n"
     ]
    },
    {
     "name": "stderr",
     "output_type": "stream",
     "text": [
      "/tmp/ipykernel_26756/3830791109.py:42: FutureWarning: The frame.append method is deprecated and will be removed from pandas in a future version. Use pandas.concat instead.\n",
      "  filtrado=filtrado.append(filtrar)\n",
      "/tmp/ipykernel_26756/3830791109.py:47: FutureWarning: The frame.append method is deprecated and will be removed from pandas in a future version. Use pandas.concat instead.\n",
      "  timeseries_o = timeseries_o.append(filtrado)\n"
     ]
    },
    {
     "name": "stdout",
     "output_type": "stream",
     "text": [
      "         origen     destino actividad_origen actividad_destino  residencia  \\\n",
      "fecha                                                                        \n",
      "20200215  19024     0200305             casa             otros          19   \n",
      "20200215  19024    02069_AM            otros             otros           4   \n",
      "20200215  19024       03049            otros              casa           3   \n",
      "20200215  19024       04053            otros             otros           8   \n",
      "20200215  19024  0501901_AD             casa             otros          19   \n",
      "20200215  19024     0501906            otros             otros           5   \n",
      "20200215  19024       06006             casa             otros          19   \n",
      "20200215  19024    09194_AM             casa             otros          19   \n",
      "20200215  19024     1003704            otros             otros          10   \n",
      "20200215  19024       10067             casa             otros          19   \n",
      "\n",
      "          edad  periodo distancia  viajes  viajes_km  \n",
      "fecha                                                 \n",
      "20200215   NaN        5      100+   6.248   1343.900  \n",
      "20200215   NaN        1      100+   8.934   1602.498  \n",
      "20200215   NaN       17      100+  13.546   4636.488  \n",
      "20200215   NaN       13      100+   6.539   2453.630  \n",
      "20200215   NaN       12      100+   6.248    769.995  \n",
      "20200215   NaN       19      100+   4.696    576.752  \n",
      "20200215   NaN        5      100+   6.248   2229.243  \n",
      "20200215   NaN       10      100+   6.248    950.965  \n",
      "20200215   NaN       18      100+   9.448   2802.826  \n",
      "20200215   NaN        6      100+  12.496   3594.975  \n"
     ]
    },
    {
     "name": "stderr",
     "output_type": "stream",
     "text": [
      "/tmp/ipykernel_26756/3830791109.py:42: FutureWarning: The frame.append method is deprecated and will be removed from pandas in a future version. Use pandas.concat instead.\n",
      "  filtrado=filtrado.append(filtrar)\n"
     ]
    },
    {
     "name": "stdout",
     "output_type": "stream",
     "text": [
      "            origen  destino actividad_origen actividad_destino  residencia  \\\n",
      "fecha                                                                        \n",
      "20200215  19046_AM  0105905             casa             otros          19   \n",
      "20200215  19046_AM  0200301            otros             otros          19   \n",
      "20200215  19046_AM  0200302             casa             otros          19   \n",
      "20200215  19046_AM  0200303             casa             otros          19   \n",
      "20200215  19046_AM  0301407             casa             otros          19   \n",
      "20200215  19046_AM    03063             casa             otros          19   \n",
      "20200215  19046_AM  0306507            otros             otros          30   \n",
      "20200215  19046_AM  0313301            otros             otros          50   \n",
      "20200215  19046_AM  0401306            otros             otros          30   \n",
      "20200215  19046_AM    04053            otros             otros           4   \n",
      "\n",
      "          edad  periodo distancia  viajes  viajes_km  \n",
      "fecha                                                 \n",
      "20200215   NaN       18      100+   7.495   1949.047  \n",
      "20200215   NaN        7      100+   5.101   1072.227  \n",
      "20200215   NaN        5      100+   7.495   1589.670  \n",
      "20200215   NaN        9      100+   7.495   1584.268  \n",
      "20200215   NaN       11      100+  14.990   5106.884  \n",
      "20200215   NaN       14      100+   7.495   2575.030  \n",
      "20200215   NaN       11      100+  11.948   4003.736  \n",
      "20200215   NaN        2      100+   3.908   1404.023  \n",
      "20200215   NaN       12      100+   6.783   2814.978  \n",
      "20200215   NaN        4      100+  10.955   3960.947  \n"
     ]
    },
    {
     "name": "stderr",
     "output_type": "stream",
     "text": [
      "/tmp/ipykernel_26756/3830791109.py:42: FutureWarning: The frame.append method is deprecated and will be removed from pandas in a future version. Use pandas.concat instead.\n",
      "  filtrado=filtrado.append(filtrar)\n",
      "/tmp/ipykernel_26756/3830791109.py:47: FutureWarning: The frame.append method is deprecated and will be removed from pandas in a future version. Use pandas.concat instead.\n",
      "  timeseries_o = timeseries_o.append(filtrado)\n"
     ]
    }
   ],
   "source": [
    "start = \"20200214\"\n",
    "end = \"20201031\"\n",
    "timeseries_o = concatenar(start,end)\n",
    "timeseries_o.to_csv(\"DataFiltrado_Madrid.csv\")"
   ]
  }
 ],
 "metadata": {
  "kernelspec": {
   "display_name": "Python 3 (ipykernel)",
   "language": "python",
   "name": "python3"
  },
  "language_info": {
   "codemirror_mode": {
    "name": "ipython",
    "version": 3
   },
   "file_extension": ".py",
   "mimetype": "text/x-python",
   "name": "python",
   "nbconvert_exporter": "python",
   "pygments_lexer": "ipython3",
   "version": "3.9.7"
  }
 },
 "nbformat": 4,
 "nbformat_minor": 5
}
