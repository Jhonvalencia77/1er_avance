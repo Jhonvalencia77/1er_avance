{
 "cells": [
  {
   "cell_type": "code",
   "execution_count": 1,
   "id": "25a83033",
   "metadata": {},
   "outputs": [],
   "source": [
    "import pandas as pd\n",
    "import numpy as np"
   ]
  },
  {
   "cell_type": "code",
   "execution_count": 3,
   "id": "95fceb1f",
   "metadata": {},
   "outputs": [],
   "source": [
    "#Creamos la función\n",
    "def concatenar(start,end,verbose=False):    \n",
    "    #Decimos la ruta de los archivos\n",
    "    #basepath = \"/media/jonathan/JHON/Tesis/DatosTesis/raw_data/%.4d%.2d%.2d_maestra_1_mitma_distrito.csv\"\n",
    "    basepath = \"/media/jonathan/JHON/Tesis/DatosTesis/MatrizDeViajes/Distritos/Periodos/%.4d%.2d%.2d_maestra_1_mitma_distrito.csv\"\n",
    "    #Definimos una lista con las fehas de inicio y final que se analizarán, esta lista se guardará en \"dates\"\n",
    "    dates = pd.date_range(start, end)\n",
    "    \n",
    "    #El simbolo % es el operador de modulo(residuo de un problema de división) \n",
    "    #El simbolo % en cadenas compara si dos textos son iguales y arroja un True or False(Carro=Caro->False)\n",
    "    #Se hace un ciclo for para capturar cada timestamp y luego se pasa cada una de las fechas al basepath\n",
    "    paths = [basepath % (timestamp.year, timestamp.month, timestamp.day) for timestamp in dates]\n",
    "\n",
    "    n = 0\n",
    "    \n",
    "    #Creamos 2 dataframe vacios\n",
    "    timeseries_o = pd.DataFrame({})\n",
    "    timeseries_d = pd.DataFrame({})\n",
    "    \n",
    "    #Hacemos un recorrido por cada uno de los paths (nombre completo del archivo) \n",
    "    for path in paths:\n",
    "        \n",
    "        #Verifica si la variable de función \"verbose esta en True\", Si es asi entonces imprime el porcentaje de archivos concatenados\n",
    "        if verbose: print(path, \"%.2f%%\" % (float(n) * 100 / len(paths)))\n",
    "        \n",
    "        #Leemos cada uno de los archivos csv y lo guardamos en la variable \"data\"\n",
    "        #Le datos a las columnas de fEcha, origen y destino un formato tipo string        \n",
    "        \n",
    "        data = pd.read_csv(path, dtype={\"fecha\": str,\n",
    "                                        \"origen\": str,\n",
    "                                        \"destino\": str}, sep='|',index_col=0)\n",
    "                \n",
    "        data = data[data.distancia >= \"002-005\"]\n",
    "        \n",
    "                \n",
    "        columnas=[\"19024\",\"19046_AM\",\"19053_AM\",\"19058_AM\",\"19071_AM\",\"19086_AM\",\"1913001\",\"1913002\",\"1913003\",\"1913004\",\"1913005\",\"19151_AM\",\"19156_AM\",\"19160_AM\",\"19171\",\"19190_AM\",\"19192_AM\",\"19220_AM\",\"19245_AM\",\"19257_AM\",\"19274_AM\",\"19280_AM\",\"19319\",\"19326_AM\",\"19331_AM\",\"28002\",\"28004\",\"2800501\",\"2800502\",\"2800503\",\"2800504\",\"2800505\",\"2800601\",\"2800701\",\"2800702\",\"2800703\",\"2800704\",\"28008_AM\",\"28009\",\"28010\",\"2801301\",\"2801302\",\"2801303\",\"2801304\",\"28014\",\"28015\",\"28018\",\"28022\",\"28023\",\"28026\",\"28027_AM\",\"28030_AM\",\"28031_AM\",\"28032_AM\",\"28033\",\"28038_AM\",\"28040\",\"28041\",\"28043\",\"28044\",\"28045\",\"28046\",\"28047\",\"2804901\",\"2804902\",\"2804903_AD\",\"28050_AM\",\"28052_AM\",\"28053\",\"28054\",\"2805801\",\"2805802\",\"2805803\",\"2805804\",\"2805805\",\"2805806\",\"2805807\",\"2805808\",\"2805809\",\"28059\",\"28060_AM\",\"28061\",\"2806501\",\"2806502\",\"2806503\",\"2806504\",\"28066\",\"28067_AM\",\"28068\",\"28072\",\"28073\",\"2807401\",\"2807402\",\"2807403\",\"2807404\",\"2807405\",\"2807406\",\"2807407\",\"28075\",\"2807901\",\"2807902\",\"2807903\",\"2807904\",\"2807905\",\"2807906\",\"2807907\",\"2807908\",\"2807909\",\"2807910\",\"2807911\",\"2807912\",\"2807913\",\"2807914\",\"2807915\",\"2807916\",\"2807917\",\"2807918\",\"2807919\",\"2807920\",\"2807921\",\"2808001\",\"2808002\",\"28082\",\"28083\",\"28084\",\"28085_AM\",\"28086\",\"28087\",\"28089\",\"28090\",\"28091\",\"2809201\",\"2809202\",\"2809203\",\"2809204\",\"28095_AM\",\"28096\",\"28099_AM\",\"28100\",\"28104\",\"2810601\",\"28108\",\"28110_AM\",\"2811301\",\"2811302\",\"2811501\",\"2811502\",\"28119_AM\",\"2812301\",\"28125_AM\",\"2812701\",\"28129\",\"28130\",\"28131\",\"28132\",\"28133_AM\",\"2813401\",\"28137_AM\",\"28140_AM\",\"28141\",\"28144\",\"28145_AM\",\"2814801\",\"2814802\",\"2814803\",\"2814804\",\"28149\",\"28150\",\"28151_AM\",\"28152\",\"28154\",\"28160\",\"2816101\",\"2816102\",\"28162_AM\",\"28164\",\"28165_AM\",\"28167\",\"28171\",\"28172\",\"28176\",\"28177\",\"28180\",\"28181\",\"28901_AM\",\"28903\"]\n",
    "        \n",
    "        filtrado = pd.DataFrame({})\n",
    "        for col in columnas:        \n",
    "            filtrar = data.loc[data.loc[:,'origen'] == col]\n",
    "            print(filtrar.head(10))\n",
    "            filtrado=filtrado.append(filtrar)    \n",
    "        \n",
    "        #print(filtrado.head(10))\n",
    "        \n",
    "        \n",
    "        timeseries_o = timeseries_o.append(filtrado)\n",
    "        \n",
    "        \n",
    "       \n",
    "        \n",
    "    return timeseries_o"
   ]
  },
  {
   "cell_type": "code",
   "execution_count": null,
   "id": "4224ab4b",
   "metadata": {},
   "outputs": [
    {
     "name": "stdout",
     "output_type": "stream",
     "text": [
      "         origen   destino actividad_origen actividad_destino  residencia  \\\n",
      "fecha                                                                      \n",
      "20200214  19024   0200304            otros             otros          46   \n",
      "20200214  19024     02009            otros              casa           2   \n",
      "20200214  19024  02021_AM            otros             otros          19   \n",
      "20200214  19024  02069_AM            otros             otros          30   \n",
      "20200214  19024   0301407            otros             otros          30   \n",
      "20200214  19024   0303102             casa             otros          19   \n",
      "20200214  19024   0303103             casa             otros          19   \n",
      "20200214  19024     03050            otros             otros          17   \n",
      "20200214  19024   0306507            otros             otros           4   \n",
      "20200214  19024   0309905             casa             otros          19   \n",
      "\n",
      "          edad  periodo distancia  viajes  viajes_km  \n",
      "fecha                                                 \n",
      "20200214   NaN       15      100+   5.862   1248.510  \n",
      "20200214   NaN       11      100+   5.726   1512.789  \n",
      "20200214   NaN       17      100+   6.851   1503.224  \n",
      "20200214   NaN       21      100+   6.257   1117.777  \n",
      "20200214   NaN       15      100+   7.052   2409.314  \n",
      "20200214   NaN        8      100+   6.245   2199.827  \n",
      "20200214   NaN        5      100+   6.245   2206.237  \n",
      "20200214   NaN        0      100+   2.672    919.146  \n",
      "20200214   NaN       21      100+   6.485   2193.876  \n",
      "20200214   NaN       20      100+   6.245   2281.953  \n"
     ]
    },
    {
     "name": "stderr",
     "output_type": "stream",
     "text": [
      "/tmp/ipykernel_18759/3650022891.py:42: FutureWarning: The frame.append method is deprecated and will be removed from pandas in a future version. Use pandas.concat instead.\n",
      "  filtrado=filtrado.append(filtrar)\n"
     ]
    },
    {
     "name": "stdout",
     "output_type": "stream",
     "text": [
      "            origen  destino actividad_origen actividad_destino  residencia  \\\n",
      "fecha                                                                        \n",
      "20200214  19046_AM  0105905            otros              casa           1   \n",
      "20200214  19046_AM  0200301            otros             otros          19   \n",
      "20200214  19046_AM  0200302            otros             otros          19   \n",
      "20200214  19046_AM  0200302            otros             otros          19   \n",
      "20200214  19046_AM  0200302            otros             otros          28   \n",
      "20200214  19046_AM  0200307            otros              casa           2   \n",
      "20200214  19046_AM  0200308            otros              casa           2   \n",
      "20200214  19046_AM  0200308            otros             otros          19   \n",
      "20200214  19046_AM    02009            otros             otros          30   \n",
      "20200214  19046_AM    02025            otros             otros          30   \n",
      "\n",
      "          edad  periodo distancia  viajes  viajes_km  \n",
      "fecha                                                 \n",
      "20200214   NaN        1      100+   8.646   2272.021  \n",
      "20200214   NaN       14      100+   6.851   1427.252  \n",
      "20200214   NaN       10      100+   4.929   1039.726  \n",
      "20200214   NaN       18      100+   7.385   1562.892  \n",
      "20200214   NaN       20      100+   4.865   1026.577  \n",
      "20200214   NaN       15      100+   7.084   1510.522  \n",
      "20200214   NaN       15      100+   2.532    522.692  \n",
      "20200214   NaN       15      100+   7.250   1605.882  \n",
      "20200214   NaN       22      100+   5.842   1532.265  \n",
      "20200214   NaN       13      100+   8.557   2436.539  \n"
     ]
    },
    {
     "name": "stderr",
     "output_type": "stream",
     "text": [
      "/tmp/ipykernel_18759/3650022891.py:42: FutureWarning: The frame.append method is deprecated and will be removed from pandas in a future version. Use pandas.concat instead.\n",
      "  filtrado=filtrado.append(filtrar)\n"
     ]
    },
    {
     "name": "stdout",
     "output_type": "stream",
     "text": [
      "            origen   destino actividad_origen actividad_destino  residencia  \\\n",
      "fecha                                                                         \n",
      "20200214  19053_AM   0200307            otros             otros          19   \n",
      "20200214  19053_AM     02081            otros             otros          19   \n",
      "20200214  19053_AM   0401307            otros              casa           4   \n",
      "20200214  19053_AM   0501906            otros             otros          28   \n",
      "20200214  19053_AM  05057_AM             casa             otros          19   \n",
      "20200214  19053_AM  05220_AM             casa             otros          19   \n",
      "20200214  19053_AM   0810101            otros             otros          28   \n",
      "20200214  19053_AM  08162_AM            otros              casa           8   \n",
      "20200214  19053_AM     08196            otros             otros          28   \n",
      "20200214  19053_AM   0820003            otros              casa           8   \n",
      "\n",
      "          edad  periodo distancia  viajes  viajes_km  \n",
      "fecha                                                 \n",
      "20200214   NaN       19      100+   6.851   1485.086  \n",
      "20200214   NaN        6      100+   2.711    485.939  \n",
      "20200214   NaN        9      100+   7.291   3295.763  \n",
      "20200214   NaN        8      100+   6.395   1043.897  \n",
      "20200214   NaN       15      100+  10.314   1480.063  \n",
      "20200214   NaN        1      100+  10.300   1811.321  \n",
      "20200214   NaN       14      100+   5.511   2302.392  \n",
      "20200214   NaN        4      100+   5.045   2033.637  \n",
      "20200214   NaN       12      100+   6.512   2570.835  \n",
      "20200214   NaN       15      100+   5.865   2395.453  \n"
     ]
    },
    {
     "name": "stderr",
     "output_type": "stream",
     "text": [
      "/tmp/ipykernel_18759/3650022891.py:42: FutureWarning: The frame.append method is deprecated and will be removed from pandas in a future version. Use pandas.concat instead.\n",
      "  filtrado=filtrado.append(filtrar)\n"
     ]
    },
    {
     "name": "stdout",
     "output_type": "stream",
     "text": [
      "            origen   destino actividad_origen actividad_destino  residencia  \\\n",
      "fecha                                                                         \n",
      "20200214  19058_AM   0200308            otros             otros          30   \n",
      "20200214  19058_AM   0200308            otros             otros          30   \n",
      "20200214  19058_AM     02037            otros             otros          46   \n",
      "20200214  19058_AM     02081          trabajo             otros          28   \n",
      "20200214  19058_AM     03048            otros             otros           8   \n",
      "20200214  19058_AM  03058_AM            otros             otros           8   \n",
      "20200214  19058_AM   0306503            otros             otros           3   \n",
      "20200214  19058_AM   0306503            otros             otros          30   \n",
      "20200214  19058_AM   0306503            otros             otros          30   \n",
      "20200214  19058_AM     03088            otros             otros          17   \n",
      "\n",
      "          edad  periodo distancia  viajes  viajes_km  \n",
      "fecha                                                 \n",
      "20200214   NaN       16      100+   6.257   1313.898  \n",
      "20200214   NaN       22      100+   8.557   1686.329  \n",
      "20200214   NaN       11      100+   5.699   1526.164  \n",
      "20200214   NaN       11      100+   6.859   1110.188  \n",
      "20200214   NaN       22      100+   5.338   1832.526  \n",
      "20200214   NaN       16      100+   8.698   3015.379  \n",
      "20200214   NaN       14      100+   9.766   3365.497  \n",
      "20200214   NaN        0      100+   7.298   2487.650  \n",
      "20200214   NaN       19      100+   5.379   1829.265  \n",
      "20200214   NaN       20      100+   2.672    891.466  \n"
     ]
    },
    {
     "name": "stderr",
     "output_type": "stream",
     "text": [
      "/tmp/ipykernel_18759/3650022891.py:42: FutureWarning: The frame.append method is deprecated and will be removed from pandas in a future version. Use pandas.concat instead.\n",
      "  filtrado=filtrado.append(filtrar)\n"
     ]
    },
    {
     "name": "stdout",
     "output_type": "stream",
     "text": [
      "            origen   destino actividad_origen actividad_destino  residencia  \\\n",
      "fecha                                                                         \n",
      "20200214  19071_AM   0200304             casa             otros          19   \n",
      "20200214  19071_AM   0200304            otros             otros          28   \n",
      "20200214  19071_AM   0200306          trabajo             otros          28   \n",
      "20200214  19071_AM  02069_AM            otros             otros          19   \n",
      "20200214  19071_AM  05241_AM          trabajo             otros          19   \n",
      "20200214  19071_AM   0601507             casa             otros          19   \n",
      "20200214  19071_AM   0905907            otros             otros          28   \n",
      "20200214  19071_AM     10131            otros             otros          28   \n",
      "20200214  19071_AM   1101202             casa             otros          19   \n",
      "20200214  19071_AM   1101504             casa             otros          19   \n",
      "\n",
      "          edad  periodo distancia  viajes  viajes_km  \n",
      "fecha                                                 \n",
      "20200214   NaN       15      100+   7.177   1672.467  \n",
      "20200214   NaN       10      100+   7.691   1801.913  \n",
      "20200214   NaN       14      100+   7.719   1816.006  \n",
      "20200214   NaN       11      100+  11.778   2550.482  \n",
      "20200214   NaN       20   050-100   7.177    694.382  \n",
      "20200214   NaN        8      100+   7.177   2612.374  \n",
      "20200214   NaN       15      100+   4.139    747.659  \n",
      "20200214   NaN       19      100+   4.618    934.561  \n",
      "20200214   NaN        6      100+   7.177   3764.649  \n",
      "20200214   NaN        5      100+   7.177   3822.004  \n"
     ]
    },
    {
     "name": "stderr",
     "output_type": "stream",
     "text": [
      "/tmp/ipykernel_18759/3650022891.py:42: FutureWarning: The frame.append method is deprecated and will be removed from pandas in a future version. Use pandas.concat instead.\n",
      "  filtrado=filtrado.append(filtrar)\n"
     ]
    },
    {
     "name": "stdout",
     "output_type": "stream",
     "text": [
      "            origen   destino actividad_origen actividad_destino  residencia  \\\n",
      "fecha                                                                         \n",
      "20200214  19086_AM     08106            otros              casa           8   \n",
      "20200214  19086_AM  08162_AM            otros             otros          28   \n",
      "20200214  19086_AM     08198            otros             otros           8   \n",
      "20200214  19086_AM   0827905            otros              casa           8   \n",
      "20200214  19086_AM  09141_AM            otros             otros          44   \n",
      "20200214  19086_AM  10019_AM             casa             otros          19   \n",
      "20200214  19086_AM  10019_AM             casa             otros          19   \n",
      "20200214  19086_AM  10019_AM            otros              casa          10   \n",
      "20200214  19086_AM     10131             casa             otros          19   \n",
      "20200214  19086_AM     10131            otros             otros           3   \n",
      "\n",
      "          edad  periodo distancia  viajes  viajes_km  \n",
      "fecha                                                 \n",
      "20200214   NaN       15      100+   5.332   2288.788  \n",
      "20200214   NaN        4      100+   6.345   2328.443  \n",
      "20200214   NaN       14      100+   5.824   2475.662  \n",
      "20200214   NaN       14      100+   5.826   2319.842  \n",
      "20200214   NaN        8      100+   8.606   1420.745  \n",
      "20200214   NaN       13      100+   9.994   2733.144  \n",
      "20200214   NaN       15      100+   9.994   2780.637  \n",
      "20200214   NaN       10      100+   7.416   2047.160  \n",
      "20200214   NaN       14      100+   9.994   2677.728  \n",
      "20200214   NaN       13      100+   5.856   1560.118  \n"
     ]
    },
    {
     "name": "stderr",
     "output_type": "stream",
     "text": [
      "/tmp/ipykernel_18759/3650022891.py:42: FutureWarning: The frame.append method is deprecated and will be removed from pandas in a future version. Use pandas.concat instead.\n",
      "  filtrado=filtrado.append(filtrar)\n"
     ]
    },
    {
     "name": "stdout",
     "output_type": "stream",
     "text": [
      "           origen   destino actividad_origen actividad_destino  residencia  \\\n",
      "fecha                                                                        \n",
      "20200214  1913001   0200301            otros             otros          41   \n",
      "20200214  1913001   0200302             casa             otros          19   \n",
      "20200214  1913001   0200302            otros             otros          19   \n",
      "20200214  1913001   0200305             casa             otros          19   \n",
      "20200214  1913001   0200306            otros             otros          41   \n",
      "20200214  1913001   0200307            otros             otros          19   \n",
      "20200214  1913001  02008_AM             casa             otros          19   \n",
      "20200214  1913001     03050             casa             otros          19   \n",
      "20200214  1913001     03902            otros             otros          19   \n",
      "20200214  1913001  05002_AM             casa             otros          19   \n",
      "\n",
      "          edad  periodo distancia  viajes  viajes_km  \n",
      "fecha                                                 \n",
      "20200214   NaN        9      100+   7.644   1636.068  \n",
      "20200214   NaN       16      100+   6.529   1380.514  \n",
      "20200214   NaN       18      100+  13.993   2954.628  \n",
      "20200214   NaN       17      100+   6.529   1397.770  \n",
      "20200214   NaN       10      100+   7.400   1588.334  \n",
      "20200214   NaN       17      100+   6.851   1494.037  \n",
      "20200214   NaN       18      100+   6.529   1581.507  \n",
      "20200214   NaN       12      100+   6.529   2240.843  \n",
      "20200214   NaN       15      100+   6.851   2531.985  \n",
      "20200214   NaN       16      100+   6.529    874.947  \n"
     ]
    },
    {
     "name": "stderr",
     "output_type": "stream",
     "text": [
      "/tmp/ipykernel_18759/3650022891.py:42: FutureWarning: The frame.append method is deprecated and will be removed from pandas in a future version. Use pandas.concat instead.\n",
      "  filtrado=filtrado.append(filtrar)\n"
     ]
    },
    {
     "name": "stdout",
     "output_type": "stream",
     "text": [
      "           origen   destino actividad_origen actividad_destino  residencia  \\\n",
      "fecha                                                                        \n",
      "20200214  1913002   0105903             casa             otros          19   \n",
      "20200214  1913002   0200301             casa             otros          19   \n",
      "20200214  1913002   0200301             casa             otros          19   \n",
      "20200214  1913002   0200301             casa             otros          19   \n",
      "20200214  1913002   0200304             casa             otros          19   \n",
      "20200214  1913002   0200305             casa             otros          19   \n",
      "20200214  1913002   0200305             casa             otros          19   \n",
      "20200214  1913002  02029_AM             casa             otros          19   \n",
      "20200214  1913002  02073_AM             casa             otros          19   \n",
      "20200214  1913002   0301401             casa             otros          19   \n",
      "\n",
      "          edad  periodo distancia  viajes  viajes_km  \n",
      "fecha                                                 \n",
      "20200214   NaN       15      100+   6.851   1701.881  \n",
      "20200214   NaN       13      100+   6.851   1461.709  \n",
      "20200214   NaN       16      100+  13.702   2913.783  \n",
      "20200214   NaN       17      100+   6.851   1460.095  \n",
      "20200214   NaN        9      100+   6.851   1463.211  \n",
      "20200214   NaN       14      100+   6.851   1471.084  \n",
      "20200214   NaN       15      100+   6.851   1468.900  \n",
      "20200214   NaN       22      100+   6.851   1567.179  \n",
      "20200214   NaN       17      100+   6.851   1276.356  \n",
      "20200214   NaN       11      100+   6.851   2349.297  \n"
     ]
    },
    {
     "name": "stderr",
     "output_type": "stream",
     "text": [
      "/tmp/ipykernel_18759/3650022891.py:42: FutureWarning: The frame.append method is deprecated and will be removed from pandas in a future version. Use pandas.concat instead.\n",
      "  filtrado=filtrado.append(filtrar)\n"
     ]
    },
    {
     "name": "stdout",
     "output_type": "stream",
     "text": [
      "           origen   destino actividad_origen actividad_destino  residencia  \\\n",
      "fecha                                                                        \n",
      "20200214  1913003   0200301             casa             otros          19   \n",
      "20200214  1913003   0200302             casa             otros          19   \n",
      "20200214  1913003   0200308            otros             otros          30   \n",
      "20200214  1913003  02045_AM             casa             otros          19   \n",
      "20200214  1913003   0313303             casa             otros          19   \n",
      "20200214  1913003   0501906            otros             otros          19   \n",
      "20200214  1913003  05204_AM             casa             otros          19   \n",
      "20200214  1913003  05238_AM          trabajo             otros          19   \n",
      "20200214  1913003  06044_AM          trabajo             otros          19   \n",
      "20200214  1913003  06117_AM            otros             otros          19   \n",
      "\n",
      "          edad  periodo distancia  viajes  viajes_km  \n",
      "fecha                                                 \n",
      "20200214   NaN       16      100+  14.500   3090.501  \n",
      "20200214   NaN       18      100+   7.250   1542.452  \n",
      "20200214   NaN        6      100+   6.238   1305.443  \n",
      "20200214   NaN       19      100+   7.250   1405.164  \n",
      "20200214   NaN       14      100+   7.250   2637.476  \n",
      "20200214   NaN       14      100+   4.929    609.774  \n",
      "20200214   NaN       16      100+   7.250   1041.667  \n",
      "20200214   NaN       12      100+   6.529   1132.548  \n",
      "20200214   NaN        6      100+   6.851   2011.523  \n",
      "20200214   NaN       12      100+  12.050   4522.417  \n"
     ]
    },
    {
     "name": "stderr",
     "output_type": "stream",
     "text": [
      "/tmp/ipykernel_18759/3650022891.py:42: FutureWarning: The frame.append method is deprecated and will be removed from pandas in a future version. Use pandas.concat instead.\n",
      "  filtrado=filtrado.append(filtrar)\n"
     ]
    },
    {
     "name": "stdout",
     "output_type": "stream",
     "text": [
      "           origen   destino actividad_origen actividad_destino  residencia  \\\n",
      "fecha                                                                        \n",
      "20200214  1913004   0200301            otros              casa           2   \n",
      "20200214  1913004   0200302             casa             otros          19   \n",
      "20200214  1913004   0200308            otros             otros          30   \n",
      "20200214  1913004  02029_AM          trabajo             otros          19   \n",
      "20200214  1913004     02081             casa             otros          19   \n",
      "20200214  1913004     02081            otros              casa           2   \n",
      "20200214  1913004     03063             casa             otros          19   \n",
      "20200214  1913004     03069             casa             otros          19   \n",
      "20200214  1913004     03902            otros             otros          19   \n",
      "20200214  1913004   0401307             casa             otros          19   \n",
      "\n",
      "          edad  periodo distancia  viajes  viajes_km  \n",
      "fecha                                                 \n",
      "20200214   NaN       15      100+   5.595   1171.420  \n",
      "20200214   NaN       12      100+   6.536   1382.048  \n",
      "20200214   NaN        8      100+  15.552   3228.549  \n",
      "20200214   NaN       14      100+   6.529   1488.440  \n",
      "20200214   NaN       19      100+   6.536   1011.012  \n",
      "20200214   NaN       17      100+   4.337    684.941  \n",
      "20200214   NaN       14      100+   6.536   2218.444  \n",
      "20200214   NaN        9      100+   6.536   2243.502  \n",
      "20200214   NaN       15      100+   7.250   2676.118  \n",
      "20200214   NaN        7      100+   6.536   2760.464  \n"
     ]
    },
    {
     "name": "stderr",
     "output_type": "stream",
     "text": [
      "/tmp/ipykernel_18759/3650022891.py:42: FutureWarning: The frame.append method is deprecated and will be removed from pandas in a future version. Use pandas.concat instead.\n",
      "  filtrado=filtrado.append(filtrar)\n"
     ]
    },
    {
     "name": "stdout",
     "output_type": "stream",
     "text": [
      "           origen   destino actividad_origen actividad_destino  residencia  \\\n",
      "fecha                                                                        \n",
      "20200214  1913005   0301404          trabajo             otros          28   \n",
      "20200214  1913005     10067            otros             otros          19   \n",
      "20200214  1913005     10131            otros             otros          39   \n",
      "20200214  1913005  10186_AM             casa             otros          19   \n",
      "20200214  1913005  13028_AM            otros             otros          19   \n",
      "20200214  1913005     13082            otros             otros          13   \n",
      "20200214  1913005     13087            otros             otros          19   \n",
      "20200214  1913005     15046            otros             otros          28   \n",
      "20200214  1913005  16023_AM            otros             otros          19   \n",
      "20200214  1913005  16027_AM          trabajo             otros          19   \n",
      "\n",
      "          edad  periodo distancia  viajes  viajes_km  \n",
      "fecha                                                 \n",
      "20200214   NaN       17      100+   6.585   2287.686  \n",
      "20200214   NaN       13      100+   7.385   2116.658  \n",
      "20200214   NaN        8      100+  17.361   3733.431  \n",
      "20200214   NaN       18      100+  13.993   3125.293  \n",
      "20200214   NaN       14      100+   6.536    904.490  \n",
      "20200214   NaN        5      100+   4.575    749.987  \n",
      "20200214   NaN       15      100+   7.250   1527.851  \n",
      "20200214   NaN        9      100+   7.588   3592.365  \n",
      "20200214   NaN        7   050-100   4.843    358.367  \n",
      "20200214   NaN       13   050-100  15.345   1445.442  \n",
      "            origen   destino actividad_origen actividad_destino  residencia  \\\n",
      "fecha                                                                         \n",
      "20200214  19151_AM  03058_AM            otros             otros           3   \n",
      "20200214  19151_AM     09018             casa             otros          19   \n",
      "20200214  19151_AM     09018             casa             otros          19   \n",
      "20200214  19151_AM     09018             casa             otros          19   \n",
      "20200214  19151_AM     09018             casa           trabajo          19   \n",
      "20200214  19151_AM     09018            otros           trabajo           9   \n",
      "20200214  19151_AM     09018          trabajo             otros          40   \n",
      "20200214  19151_AM  09289_AM            otros             otros          16   \n",
      "20200214  19151_AM  10140_AM            otros             otros          28   \n",
      "20200214  19151_AM  10140_AM            otros             otros          28   \n",
      "\n",
      "          edad  periodo distancia  viajes  viajes_km  \n",
      "fecha                                                 \n",
      "20200214   NaN       17      100+   3.676   1329.152  \n",
      "20200214   NaN        9   050-100   1.138     72.039  \n",
      "20200214   NaN       13   050-100   1.138     71.143  \n",
      "20200214   NaN       15   050-100   1.138     72.681  \n",
      "20200214   NaN       10   050-100   1.138     72.273  \n",
      "20200214   NaN       15   050-100   6.772    489.472  \n",
      "20200214   NaN       19   050-100  18.632   1073.527  \n",
      "20200214   NaN       20      100+   7.727    952.279  \n",
      "20200214   NaN       18      100+   5.790   1292.936  \n",
      "20200214   NaN       19      100+   5.513   1219.545  \n"
     ]
    },
    {
     "name": "stderr",
     "output_type": "stream",
     "text": [
      "/tmp/ipykernel_18759/3650022891.py:42: FutureWarning: The frame.append method is deprecated and will be removed from pandas in a future version. Use pandas.concat instead.\n",
      "  filtrado=filtrado.append(filtrar)\n",
      "/tmp/ipykernel_18759/3650022891.py:42: FutureWarning: The frame.append method is deprecated and will be removed from pandas in a future version. Use pandas.concat instead.\n",
      "  filtrado=filtrado.append(filtrar)\n"
     ]
    },
    {
     "name": "stdout",
     "output_type": "stream",
     "text": [
      "            origen   destino actividad_origen actividad_destino  residencia  \\\n",
      "fecha                                                                         \n",
      "20200214  19156_AM   0105903             casa             otros          19   \n",
      "20200214  19156_AM     02081            otros             otros           8   \n",
      "20200214  19156_AM   0818401            otros             otros          25   \n",
      "20200214  19156_AM     08194            otros             otros           8   \n",
      "20200214  19156_AM   1607804            otros             otros          19   \n",
      "20200214  19156_AM     19024            otros             otros          46   \n",
      "20200214  19156_AM  19046_AM             casa           trabajo          19   \n",
      "20200214  19156_AM  19046_AM            otros              casa          19   \n",
      "20200214  19156_AM  19046_AM            otros              casa          19   \n",
      "20200214  19156_AM  19053_AM             casa             otros          19   \n",
      "\n",
      "          edad  periodo distancia  viajes  viajes_km  \n",
      "fecha                                                 \n",
      "20200214   NaN        9      100+  17.369   3681.024  \n",
      "20200214   NaN        5      100+   6.568   1201.626  \n",
      "20200214   NaN       23      100+  15.818   6654.009  \n",
      "20200214   NaN       12      100+   5.080   2198.484  \n",
      "20200214   NaN       22      100+   6.536    743.625  \n",
      "20200214   NaN       16   010-050   4.226    179.229  \n",
      "20200214   NaN        7   050-100  13.764    708.460  \n",
      "20200214   NaN        6   010-050   3.977    141.672  \n",
      "20200214   NaN       15   050-100   6.017    417.133  \n",
      "20200214   NaN        1   010-050   8.917     94.837  \n"
     ]
    },
    {
     "name": "stderr",
     "output_type": "stream",
     "text": [
      "/tmp/ipykernel_18759/3650022891.py:42: FutureWarning: The frame.append method is deprecated and will be removed from pandas in a future version. Use pandas.concat instead.\n",
      "  filtrado=filtrado.append(filtrar)\n"
     ]
    },
    {
     "name": "stdout",
     "output_type": "stream",
     "text": [
      "            origen     destino actividad_origen actividad_destino  residencia  \\\n",
      "fecha                                                                           \n",
      "20200214  19160_AM     0200307          trabajo             otros          45   \n",
      "20200214  19160_AM    02029_AM            otros             otros          19   \n",
      "20200214  19160_AM    06162_AM             casa             otros          19   \n",
      "20200214  19160_AM       09018            otros              casa           9   \n",
      "20200214  19160_AM  0905901_AD             casa             otros          19   \n",
      "20200214  19160_AM    09141_AM             casa             otros          19   \n",
      "20200214  19160_AM       13054            otros             otros          19   \n",
      "20200214  19160_AM       13082             casa             otros          19   \n",
      "20200214  19160_AM    13089_AM             casa             otros          19   \n",
      "20200214  19160_AM    14005_AM             casa             otros          19   \n",
      "\n",
      "          edad  periodo distancia  viajes  viajes_km  \n",
      "fecha                                                 \n",
      "20200214   NaN       17      100+  10.512   2055.279  \n",
      "20200214   NaN        7      100+   6.851   1160.235  \n",
      "20200214   NaN        9      100+  11.346   3769.861  \n",
      "20200214   NaN        9      100+   9.331   1342.353  \n",
      "20200214   NaN       14      100+  11.346   2536.109  \n",
      "20200214   NaN       17      100+   5.899    777.525  \n",
      "20200214   NaN       14      100+   6.536   1064.206  \n",
      "20200214   NaN       14      100+   5.899    860.473  \n",
      "20200214   NaN       14      100+   6.000   1043.106  \n",
      "20200214   NaN       12      100+   6.000   2029.522  \n"
     ]
    },
    {
     "name": "stderr",
     "output_type": "stream",
     "text": [
      "/tmp/ipykernel_18759/3650022891.py:42: FutureWarning: The frame.append method is deprecated and will be removed from pandas in a future version. Use pandas.concat instead.\n",
      "  filtrado=filtrado.append(filtrar)\n"
     ]
    },
    {
     "name": "stdout",
     "output_type": "stream",
     "text": [
      "         origen   destino actividad_origen actividad_destino  residencia  \\\n",
      "fecha                                                                      \n",
      "20200214  19171  01047_AM            otros             otros          19   \n",
      "20200214  19171  02010_AM            otros             otros          19   \n",
      "20200214  19171  02069_AM            otros             otros           9   \n",
      "20200214  19171  03005_AM            otros             otros           3   \n",
      "20200214  19171   0301407            otros             otros          30   \n",
      "20200214  19171   0301408            otros             otros          30   \n",
      "20200214  19171     03019            otros              casa           3   \n",
      "20200214  19171     03063             casa             otros          19   \n",
      "20200214  19171   0306503            otros             otros          17   \n",
      "20200214  19171   0306507            otros              casa           3   \n",
      "\n",
      "          edad  periodo distancia  viajes  viajes_km  \n",
      "fecha                                                 \n",
      "20200214   NaN       15      100+   7.385   1682.386  \n",
      "20200214   NaN        0      100+   6.536   1676.532  \n",
      "20200214   NaN       19      100+   7.403   1515.566  \n",
      "20200214   NaN       18      100+   5.839   2005.038  \n",
      "20200214   NaN       20      100+   9.252   3199.335  \n",
      "20200214   NaN       20      100+   9.252   3209.696  \n",
      "20200214   NaN       20      100+   6.860   2276.500  \n",
      "20200214   NaN        6      100+  10.932   3751.432  \n",
      "20200214   NaN        2      100+   2.733    932.280  \n",
      "20200214   NaN       18      100+   3.676   1248.548  \n"
     ]
    },
    {
     "name": "stderr",
     "output_type": "stream",
     "text": [
      "/tmp/ipykernel_18759/3650022891.py:42: FutureWarning: The frame.append method is deprecated and will be removed from pandas in a future version. Use pandas.concat instead.\n",
      "  filtrado=filtrado.append(filtrar)\n"
     ]
    },
    {
     "name": "stdout",
     "output_type": "stream",
     "text": [
      "            origen     destino actividad_origen actividad_destino  residencia  \\\n",
      "fecha                                                                           \n",
      "20200214  19190_AM       02081             casa             otros          19   \n",
      "20200214  19190_AM       02081            otros             otros          19   \n",
      "20200214  19190_AM     0407902            otros              casa           4   \n",
      "20200214  19190_AM       08054            otros             otros           8   \n",
      "20200214  19190_AM    12082_AM            otros             otros          31   \n",
      "20200214  19190_AM       12138             casa             otros          19   \n",
      "20200214  19190_AM       13005             casa             otros          19   \n",
      "20200214  19190_AM       13005            otros              casa          13   \n",
      "20200214  19190_AM  1607801_AD             casa             otros          19   \n",
      "20200214  19190_AM     1607804             casa             otros          19   \n",
      "\n",
      "          edad  periodo distancia  viajes  viajes_km  \n",
      "fecha                                                 \n",
      "20200214   NaN       15      100+  26.000   4384.809  \n",
      "20200214   NaN       17      100+  16.910   2906.301  \n",
      "20200214   NaN       13      100+   7.855   3545.676  \n",
      "20200214   NaN        5      100+   7.499   2501.487  \n",
      "20200214   NaN        9      100+   8.388   1400.951  \n",
      "20200214   NaN       15      100+  16.910   3459.415  \n",
      "20200214   NaN       14      100+  16.910   3331.466  \n",
      "20200214   NaN       14      100+   6.120   1199.054  \n",
      "20200214   NaN       12      100+  14.000   1418.293  \n",
      "20200214   NaN       15   050-100  16.910   1499.788  \n"
     ]
    },
    {
     "name": "stderr",
     "output_type": "stream",
     "text": [
      "/tmp/ipykernel_18759/3650022891.py:42: FutureWarning: The frame.append method is deprecated and will be removed from pandas in a future version. Use pandas.concat instead.\n",
      "  filtrado=filtrado.append(filtrar)\n"
     ]
    },
    {
     "name": "stdout",
     "output_type": "stream",
     "text": [
      "            origen   destino actividad_origen actividad_destino  residencia  \\\n",
      "fecha                                                                         \n",
      "20200214  19192_AM   0200307             casa             otros          19   \n",
      "20200214  19192_AM   0200307            otros              casa           2   \n",
      "20200214  19192_AM   0200308             casa             otros          19   \n",
      "20200214  19192_AM  02045_AM             casa             otros          19   \n",
      "20200214  19192_AM  02069_AM             casa             otros          19   \n",
      "20200214  19192_AM  02069_AM             casa             otros          19   \n",
      "20200214  19192_AM  02069_AM            otros              casa           2   \n",
      "20200214  19192_AM   0303103             casa             otros          19   \n",
      "20200214  19192_AM   0905905             casa             otros          19   \n",
      "20200214  19192_AM   0905905            otros             otros          19   \n",
      "\n",
      "          edad  periodo distancia  viajes  viajes_km  \n",
      "fecha                                                 \n",
      "20200214   NaN       14      100+  12.050   2230.451  \n",
      "20200214   NaN       13      100+   7.084   1190.376  \n",
      "20200214   NaN       14      100+  12.050   2168.367  \n",
      "20200214   NaN       14      100+  12.050   1985.227  \n",
      "20200214   NaN        1      100+   5.877    795.245  \n",
      "20200214   NaN       13      100+  12.050   1997.857  \n",
      "20200214   NaN       20      100+   6.543    833.435  \n",
      "20200214   NaN       17      100+  12.050   3914.362  \n",
      "20200214   NaN        7      100+   7.732   1817.141  \n",
      "20200214   NaN       13      100+   6.245   1433.326  \n"
     ]
    },
    {
     "name": "stderr",
     "output_type": "stream",
     "text": [
      "/tmp/ipykernel_18759/3650022891.py:42: FutureWarning: The frame.append method is deprecated and will be removed from pandas in a future version. Use pandas.concat instead.\n",
      "  filtrado=filtrado.append(filtrar)\n"
     ]
    },
    {
     "name": "stdout",
     "output_type": "stream",
     "text": [
      "            origen   destino actividad_origen actividad_destino  residencia  \\\n",
      "fecha                                                                         \n",
      "20200214  19220_AM   0200308            otros             otros          19   \n",
      "20200214  19220_AM  02021_AM             casa             otros          19   \n",
      "20200214  19220_AM  02033_AM             casa             otros          19   \n",
      "20200214  19220_AM  02069_AM          trabajo             otros          19   \n",
      "20200214  19220_AM     02074          trabajo             otros          19   \n",
      "20200214  19220_AM     04100            otros             otros           4   \n",
      "20200214  19220_AM  05168_AM             casa             otros          19   \n",
      "20200214  19220_AM     13023             casa             otros          19   \n",
      "20200214  19220_AM  13042_AM            otros              casa          13   \n",
      "20200214  19220_AM  16249_AM             casa             otros          19   \n",
      "\n",
      "          edad  periodo distancia  viajes  viajes_km  \n",
      "fecha                                                 \n",
      "20200214   NaN       17      100+   6.529   1296.423  \n",
      "20200214   NaN       14      100+   6.597   1369.281  \n",
      "20200214   NaN       19      100+   6.597   1647.894  \n",
      "20200214   NaN       14      100+   6.529   1090.395  \n",
      "20200214   NaN       14      100+   6.851   1671.641  \n",
      "20200214   NaN        6      100+   6.510   2463.073  \n",
      "20200214   NaN       13   050-100   6.330    628.664  \n",
      "20200214   NaN       13      100+   6.330   1112.143  \n",
      "20200214   NaN       15      100+  17.065   3814.100  \n",
      "20200214   NaN       20   050-100   6.330    532.745  \n"
     ]
    },
    {
     "name": "stderr",
     "output_type": "stream",
     "text": [
      "/tmp/ipykernel_18759/3650022891.py:42: FutureWarning: The frame.append method is deprecated and will be removed from pandas in a future version. Use pandas.concat instead.\n",
      "  filtrado=filtrado.append(filtrar)\n"
     ]
    },
    {
     "name": "stdout",
     "output_type": "stream",
     "text": [
      "            origen   destino actividad_origen actividad_destino  residencia  \\\n",
      "fecha                                                                         \n",
      "20200214  19245_AM   0200302             casa             otros          19   \n",
      "20200214  19245_AM  02021_AM            otros             otros          16   \n",
      "20200214  19245_AM     10131             casa             otros          19   \n",
      "20200214  19245_AM     10131            otros             otros          10   \n",
      "20200214  19245_AM   1204009            otros             otros          12   \n",
      "20200214  19245_AM  13085_AM             casa             otros          19   \n",
      "20200214  19245_AM  16023_AM             casa             otros          19   \n",
      "20200214  19245_AM  16023_AM             casa             otros          19   \n",
      "20200214  19245_AM  16023_AM             casa             otros          19   \n",
      "20200214  19245_AM  16023_AM             casa             otros          19   \n",
      "\n",
      "          edad  periodo distancia  viajes  viajes_km  \n",
      "fecha                                                 \n",
      "20200214   NaN       16      100+   8.811   1603.301  \n",
      "20200214   NaN       14      100+   7.727   1422.905  \n",
      "20200214   NaN       14      100+  13.284   3495.194  \n",
      "20200214   NaN       14      100+  14.357   3755.723  \n",
      "20200214   NaN       15      100+   7.561   1765.947  \n",
      "20200214   NaN       11      100+   8.811   1943.051  \n",
      "20200214   NaN        9   010-050  16.616    204.043  \n",
      "20200214   NaN       13   010-050   4.783     49.914  \n",
      "20200214   NaN       15   050-100  17.622   1080.626  \n",
      "20200214   NaN       16   050-100  26.500   1434.107  \n"
     ]
    },
    {
     "name": "stderr",
     "output_type": "stream",
     "text": [
      "/tmp/ipykernel_18759/3650022891.py:42: FutureWarning: The frame.append method is deprecated and will be removed from pandas in a future version. Use pandas.concat instead.\n",
      "  filtrado=filtrado.append(filtrar)\n"
     ]
    },
    {
     "name": "stdout",
     "output_type": "stream",
     "text": [
      "            origen   destino actividad_origen actividad_destino  residencia  \\\n",
      "fecha                                                                         \n",
      "20200214  19257_AM  02086_AM          trabajo             otros          19   \n",
      "20200214  19257_AM   0407902            otros              casa           4   \n",
      "20200214  19257_AM     08054            otros             otros          28   \n",
      "20200214  19257_AM   1204008             casa             otros          19   \n",
      "20200214  19257_AM  13031_AM             casa             otros          19   \n",
      "20200214  19257_AM  13053_AM            otros             otros           3   \n",
      "20200214  19257_AM  13053_AM            otros             otros          11   \n",
      "20200214  19257_AM     13061             casa             otros          19   \n",
      "20200214  19257_AM     13061            otros             otros          16   \n",
      "20200214  19257_AM   1402102            otros             otros          14   \n",
      "\n",
      "          edad  periodo distancia  viajes  viajes_km  \n",
      "fecha                                                 \n",
      "20200214   NaN       13      100+   6.851   2107.984  \n",
      "20200214   NaN       15      100+   7.855   3616.883  \n",
      "20200214   NaN        5      100+  10.670   4217.686  \n",
      "20200214   NaN       11      100+  15.345   3806.580  \n",
      "20200214   NaN       15      100+  15.345   3781.706  \n",
      "20200214   NaN       10      100+  10.048   2249.728  \n",
      "20200214   NaN       10      100+   8.774   1869.986  \n",
      "20200214   NaN        5      100+  15.345   2868.269  \n",
      "20200214   NaN        5      100+  14.594   2544.743  \n",
      "20200214   NaN        7      100+   7.872   2959.569  \n"
     ]
    },
    {
     "name": "stderr",
     "output_type": "stream",
     "text": [
      "/tmp/ipykernel_18759/3650022891.py:42: FutureWarning: The frame.append method is deprecated and will be removed from pandas in a future version. Use pandas.concat instead.\n",
      "  filtrado=filtrado.append(filtrar)\n"
     ]
    },
    {
     "name": "stdout",
     "output_type": "stream",
     "text": [
      "            origen   destino actividad_origen actividad_destino  residencia  \\\n",
      "fecha                                                                         \n",
      "20200214  19274_AM     02037            otros             otros          30   \n",
      "20200214  19274_AM     02081          trabajo             otros          19   \n",
      "20200214  19274_AM   0309907            otros              casa           3   \n",
      "20200214  19274_AM     03902            otros             otros          18   \n",
      "20200214  19274_AM     04029            otros           trabajo          18   \n",
      "20200214  19274_AM  04038_AM            otros             otros          17   \n",
      "20200214  19274_AM     08076            otros             otros          42   \n",
      "20200214  19274_AM   0810103            otros             otros          19   \n",
      "20200214  19274_AM   0827901            otros              casa           8   \n",
      "20200214  19274_AM  10019_AM            otros             otros          28   \n",
      "\n",
      "          edad  periodo distancia  viajes  viajes_km  \n",
      "fecha                                                 \n",
      "20200214   NaN       21      100+  12.514   3393.521  \n",
      "20200214   NaN       12      100+   6.851   1152.668  \n",
      "20200214   NaN        5      100+   5.006   1727.416  \n",
      "20200214   NaN       20      100+   6.698   2520.727  \n",
      "20200214   NaN       13      100+   8.649   3750.289  \n",
      "20200214   NaN       20      100+   2.733   1198.515  \n",
      "20200214   NaN        8      100+   5.286   2269.572  \n",
      "20200214   NaN        9      100+   6.851   3071.965  \n",
      "20200214   NaN       10      100+   7.289   3160.305  \n",
      "20200214   NaN       17      100+   5.511   1317.498  \n"
     ]
    },
    {
     "name": "stderr",
     "output_type": "stream",
     "text": [
      "/tmp/ipykernel_18759/3650022891.py:42: FutureWarning: The frame.append method is deprecated and will be removed from pandas in a future version. Use pandas.concat instead.\n",
      "  filtrado=filtrado.append(filtrar)\n"
     ]
    },
    {
     "name": "stdout",
     "output_type": "stream",
     "text": [
      "            origen   destino actividad_origen actividad_destino  residencia  \\\n",
      "fecha                                                                         \n",
      "20200214  19280_AM  02045_AM             casa             otros          19   \n",
      "20200214  19280_AM     02081             casa             otros          19   \n",
      "20200214  19280_AM     09018            otros              casa           9   \n",
      "20200214  19280_AM     10067            otros             otros          28   \n",
      "20200214  19280_AM  10205_AM             casa             otros          19   \n",
      "20200214  19280_AM  10216_AM             casa             otros          19   \n",
      "20200214  19280_AM     13082             casa             otros          19   \n",
      "20200214  19280_AM  16112_AM             casa             otros          19   \n",
      "20200214  19280_AM     19024             casa             otros          19   \n",
      "20200214  19280_AM     19024             casa             otros          19   \n",
      "\n",
      "          edad  periodo distancia  viajes  viajes_km  \n",
      "fecha                                                 \n",
      "20200214   NaN       14      100+   7.457   1575.444  \n",
      "20200214   NaN       12      100+  10.561   1803.360  \n",
      "20200214   NaN       16      100+   6.901    772.482  \n",
      "20200214   NaN       13      100+   4.865   1340.312  \n",
      "20200214   NaN       15      100+  10.561   3113.744  \n",
      "20200214   NaN        8      100+  10.561   2445.877  \n",
      "20200214   NaN       20      100+   7.457   1242.856  \n",
      "20200214   NaN        6   050-100   7.457    583.912  \n",
      "20200214   NaN        4   010-050   8.479    139.763  \n",
      "20200214   NaN        5   010-050   6.209     66.419  \n"
     ]
    },
    {
     "name": "stderr",
     "output_type": "stream",
     "text": [
      "/tmp/ipykernel_18759/3650022891.py:42: FutureWarning: The frame.append method is deprecated and will be removed from pandas in a future version. Use pandas.concat instead.\n",
      "  filtrado=filtrado.append(filtrar)\n"
     ]
    },
    {
     "name": "stdout",
     "output_type": "stream",
     "text": [
      "         origen   destino actividad_origen actividad_destino  residencia  \\\n",
      "fecha                                                                      \n",
      "20200214  19319   0200308            otros             otros          19   \n",
      "20200214  19319  02069_AM             casa             otros          19   \n",
      "20200214  19319   0313303          trabajo             otros          19   \n",
      "20200214  19319   0601507            otros             otros          19   \n",
      "20200214  19319     08023             casa             otros          19   \n",
      "20200214  19319     09018            otros              casa           9   \n",
      "20200214  19319  09174_AM             casa             otros          19   \n",
      "20200214  19319  09363_AM            otros             otros          33   \n",
      "20200214  19319  09907_AM            otros              casa           9   \n",
      "20200214  19319     11029            otros              casa          11   \n",
      "\n",
      "          edad  periodo distancia  viajes  viajes_km  \n",
      "fecha                                                 \n",
      "20200214   NaN       20      100+   6.245   1331.697  \n",
      "20200214   NaN        6      100+  15.152   2994.130  \n",
      "20200214   NaN        8      100+   7.385   2687.305  \n",
      "20200214   NaN       11      100+   6.529   2399.628  \n",
      "20200214   NaN       17      100+  15.152   7260.795  \n",
      "20200214   NaN       13      100+   6.901    862.895  \n",
      "20200214   NaN       15      100+  15.152   1889.751  \n",
      "20200214   NaN       15      100+   7.113   1520.656  \n",
      "20200214   NaN       16      100+  11.529   2360.906  \n",
      "20200214   NaN       12      100+  10.626   4652.486  \n"
     ]
    },
    {
     "name": "stderr",
     "output_type": "stream",
     "text": [
      "/tmp/ipykernel_18759/3650022891.py:42: FutureWarning: The frame.append method is deprecated and will be removed from pandas in a future version. Use pandas.concat instead.\n",
      "  filtrado=filtrado.append(filtrar)\n"
     ]
    },
    {
     "name": "stdout",
     "output_type": "stream",
     "text": [
      "            origen   destino actividad_origen actividad_destino  residencia  \\\n",
      "fecha                                                                         \n",
      "20200214  19326_AM   0200307            otros             otros          19   \n",
      "20200214  19326_AM   0301401            otros             otros          19   \n",
      "20200214  19326_AM     03063            otros             otros          19   \n",
      "20200214  19326_AM  05057_AM            otros              casa           5   \n",
      "20200214  19326_AM   0801901             casa             otros          19   \n",
      "20200214  19326_AM   0811302            otros              casa           8   \n",
      "20200214  19326_AM   0905905             casa             otros          19   \n",
      "20200214  19326_AM   0905906             casa             otros          19   \n",
      "20200214  19326_AM   0905909            otros             otros          46   \n",
      "20200214  19326_AM  10116_AM             casa             otros          19   \n",
      "\n",
      "          edad  periodo distancia  viajes  viajes_km  \n",
      "fecha                                                 \n",
      "20200214   NaN       12      100+   6.851   1422.759  \n",
      "20200214   NaN       17      100+   7.250   2413.378  \n",
      "20200214   NaN       18      100+  13.993   4664.311  \n",
      "20200214   NaN       11      100+   7.057    789.185  \n",
      "20200214   NaN        3      100+   5.925   2667.047  \n",
      "20200214   NaN       20      100+   6.975   3018.935  \n",
      "20200214   NaN        7      100+  11.309   2261.147  \n",
      "20200214   NaN        8      100+  11.309   2259.340  \n",
      "20200214   NaN        7      100+   3.555    720.659  \n",
      "20200214   NaN       16      100+   5.925   1546.986  \n"
     ]
    },
    {
     "name": "stderr",
     "output_type": "stream",
     "text": [
      "/tmp/ipykernel_18759/3650022891.py:42: FutureWarning: The frame.append method is deprecated and will be removed from pandas in a future version. Use pandas.concat instead.\n",
      "  filtrado=filtrado.append(filtrar)\n"
     ]
    },
    {
     "name": "stdout",
     "output_type": "stream",
     "text": [
      "            origen     destino actividad_origen actividad_destino  residencia  \\\n",
      "fecha                                                                           \n",
      "20200214  19331_AM     0200301            otros             otros          19   \n",
      "20200214  19331_AM       02025            otros           trabajo          46   \n",
      "20200214  19331_AM    02069_AM            otros             otros          19   \n",
      "20200214  19331_AM     0407902            otros             otros          16   \n",
      "20200214  19331_AM  0501901_AD             casa             otros          19   \n",
      "20200214  19331_AM    05168_AM             casa             otros          19   \n",
      "20200214  19331_AM     0601507          trabajo             otros          19   \n",
      "20200214  19331_AM       07048             casa             otros          19   \n",
      "20200214  19331_AM     0801501          trabajo             otros          19   \n",
      "20200214  19331_AM       08194             casa             otros          19   \n",
      "\n",
      "          edad  periodo distancia  viajes  viajes_km  \n",
      "fecha                                                 \n",
      "20200214   NaN       15      100+   7.250   1636.265  \n",
      "20200214   NaN        8      100+  11.059   3259.243  \n",
      "20200214   NaN       14      100+   6.245   1203.831  \n",
      "20200214   NaN       11      100+   7.000   3122.251  \n",
      "20200214   NaN       19      100+  11.778   1522.138  \n",
      "20200214   NaN       21   050-100  12.755   1269.047  \n",
      "20200214   NaN       11      100+   6.245   2393.866  \n",
      "20200214   NaN        4      100+  12.755   5631.367  \n",
      "20200214   NaN       10      100+   6.851   3167.510  \n",
      "20200214   NaN        7      100+  11.778   5398.990  \n"
     ]
    },
    {
     "name": "stderr",
     "output_type": "stream",
     "text": [
      "/tmp/ipykernel_18759/3650022891.py:42: FutureWarning: The frame.append method is deprecated and will be removed from pandas in a future version. Use pandas.concat instead.\n",
      "  filtrado=filtrado.append(filtrar)\n"
     ]
    },
    {
     "name": "stdout",
     "output_type": "stream",
     "text": [
      "         origen   destino actividad_origen actividad_destino  residencia  \\\n",
      "fecha                                                                      \n",
      "20200214  28002     02025            otros             otros          28   \n",
      "20200214  28002     02037            otros             otros           8   \n",
      "20200214  28002  02069_AM            otros              casa           2   \n",
      "20200214  28002  02069_AM            otros             otros          28   \n",
      "20200214  28002     02081            otros             otros          13   \n",
      "20200214  28002  03058_AM            otros             otros           3   \n",
      "20200214  28002  03070_AM             casa             otros          28   \n",
      "20200214  28002   0501904            otros              casa           5   \n",
      "20200214  28002   0501904          trabajo             otros          28   \n",
      "20200214  28002  05054_AM          trabajo             otros          28   \n",
      "\n",
      "          edad  periodo distancia  viajes  viajes_km  \n",
      "fecha                                                 \n",
      "20200214   NaN       11      100+   6.585   1929.673  \n",
      "20200214   NaN       12      100+   6.805   1876.075  \n",
      "20200214   NaN       16      100+   4.164    831.705  \n",
      "20200214   NaN       11      100+   4.643    862.609  \n",
      "20200214   NaN        9      100+   5.715    891.607  \n",
      "20200214   NaN       12      100+   6.242   2127.160  \n",
      "20200214   NaN       21      100+   8.718   3134.912  \n",
      "20200214   NaN       13      100+   7.308    751.298  \n",
      "20200214   NaN       16      100+   5.097    527.182  \n",
      "20200214   NaN       15      100+   8.327    975.212  \n"
     ]
    },
    {
     "name": "stderr",
     "output_type": "stream",
     "text": [
      "/tmp/ipykernel_18759/3650022891.py:42: FutureWarning: The frame.append method is deprecated and will be removed from pandas in a future version. Use pandas.concat instead.\n",
      "  filtrado=filtrado.append(filtrar)\n"
     ]
    },
    {
     "name": "stdout",
     "output_type": "stream",
     "text": [
      "         origen   destino actividad_origen actividad_destino  residencia  \\\n",
      "fecha                                                                      \n",
      "20200214  28004     03121            otros             otros          28   \n",
      "20200214  28004   0313301             casa             otros          28   \n",
      "20200214  28004  05002_AM            otros             otros          28   \n",
      "20200214  28004   0501904             casa             otros          28   \n",
      "20200214  28004  05057_AM             casa             otros          28   \n",
      "20200214  28004  05241_AM             casa             otros          28   \n",
      "20200214  28004  06063_AM          trabajo             otros          28   \n",
      "20200214  28004   1003701            otros             otros          28   \n",
      "20200214  28004  10113_AM             casa             otros          28   \n",
      "20200214  28004  10113_AM            otros             otros          28   \n",
      "\n",
      "          edad  periodo distancia  viajes  viajes_km  \n",
      "fecha                                                 \n",
      "20200214   NaN        8      100+   5.567   2074.660  \n",
      "20200214   NaN       18      100+   9.461   3587.886  \n",
      "20200214   NaN        3   050-100   9.486    532.681  \n",
      "20200214   NaN       17   050-100   9.461    724.977  \n",
      "20200214   NaN       11   050-100   9.461    554.970  \n",
      "20200214   NaN       16   010-050   9.461    450.807  \n",
      "20200214   NaN       15      100+   4.700    624.717  \n",
      "20200214   NaN       14      100+   7.200   1588.440  \n",
      "20200214   NaN       19      100+   9.461   1682.859  \n",
      "20200214   NaN       20      100+   5.511    963.246  \n"
     ]
    },
    {
     "name": "stderr",
     "output_type": "stream",
     "text": [
      "/tmp/ipykernel_18759/3650022891.py:42: FutureWarning: The frame.append method is deprecated and will be removed from pandas in a future version. Use pandas.concat instead.\n",
      "  filtrado=filtrado.append(filtrar)\n"
     ]
    },
    {
     "name": "stdout",
     "output_type": "stream",
     "text": [
      "           origen     destino actividad_origen actividad_destino  residencia  \\\n",
      "fecha                                                                          \n",
      "20200214  2800501     0301401             casa             otros          28   \n",
      "20200214  2800501     0301402             casa             otros          28   \n",
      "20200214  2800501       03050             casa             otros          28   \n",
      "20200214  2800501       03050            otros             otros          10   \n",
      "20200214  2800501     0306503            otros             otros          28   \n",
      "20200214  2800501       03076             casa             otros          28   \n",
      "20200214  2800501  0501901_AD             casa             otros          28   \n",
      "20200214  2800501     0501906             casa             otros          28   \n",
      "20200214  2800501    05057_AM             casa             otros          28   \n",
      "20200214  2800501    05220_AM             casa             otros          28   \n",
      "\n",
      "          edad  periodo distancia  viajes  viajes_km  \n",
      "fecha                                                 \n",
      "20200214   NaN       13      100+   6.211   2129.660  \n",
      "20200214   NaN       16      100+   6.211   2126.723  \n",
      "20200214   NaN        9      100+   6.211   2122.816  \n",
      "20200214   NaN       20      100+  14.650   5038.231  \n",
      "20200214   NaN       14      100+   6.857   2300.689  \n",
      "20200214   NaN       19      100+   6.211   2201.968  \n",
      "20200214   NaN       12      100+   6.211    714.337  \n",
      "20200214   NaN        4      100+   6.211    692.013  \n",
      "20200214   NaN       18   050-100   6.211    554.163  \n",
      "20200214   NaN       17      100+   6.211    960.118  \n"
     ]
    },
    {
     "name": "stderr",
     "output_type": "stream",
     "text": [
      "/tmp/ipykernel_18759/3650022891.py:42: FutureWarning: The frame.append method is deprecated and will be removed from pandas in a future version. Use pandas.concat instead.\n",
      "  filtrado=filtrado.append(filtrar)\n"
     ]
    },
    {
     "name": "stdout",
     "output_type": "stream",
     "text": [
      "           origen   destino actividad_origen actividad_destino  residencia  \\\n",
      "fecha                                                                        \n",
      "20200214  2800502   0105904             casa             otros          28   \n",
      "20200214  2800502   0105906            otros             otros          28   \n",
      "20200214  2800502   0200308            otros             otros          28   \n",
      "20200214  2800502  02010_AM             casa             otros          28   \n",
      "20200214  2800502   0303102             casa             otros          28   \n",
      "20200214  2800502   0303103            otros             otros          28   \n",
      "20200214  2800502  03058_AM            otros             otros           3   \n",
      "20200214  2800502     03064            otros             otros          28   \n",
      "20200214  2800502     03088            otros             otros          16   \n",
      "20200214  2800502     03095            otros             otros          28   \n",
      "\n",
      "          edad  periodo distancia  viajes  viajes_km  \n",
      "fecha                                                 \n",
      "20200214   NaN       13      100+   8.327   2237.009  \n",
      "20200214   NaN        6      100+   5.739   1537.260  \n",
      "20200214   NaN       18      100+   6.585   1393.230  \n",
      "20200214   NaN       18      100+   8.327   1967.832  \n",
      "20200214   NaN        7      100+   8.327   2932.363  \n",
      "20200214   NaN       12      100+   4.643   1635.719  \n",
      "20200214   NaN       23      100+  10.283   3445.069  \n",
      "20200214   NaN       12      100+   6.585   2269.509  \n",
      "20200214   NaN        8      100+   4.585   1517.624  \n",
      "20200214   NaN       14      100+   6.372   2193.016  \n"
     ]
    },
    {
     "name": "stderr",
     "output_type": "stream",
     "text": [
      "/tmp/ipykernel_18759/3650022891.py:42: FutureWarning: The frame.append method is deprecated and will be removed from pandas in a future version. Use pandas.concat instead.\n",
      "  filtrado=filtrado.append(filtrar)\n"
     ]
    },
    {
     "name": "stdout",
     "output_type": "stream",
     "text": [
      "           origen  destino actividad_origen actividad_destino  residencia  \\\n",
      "fecha                                                                       \n",
      "20200214  2800503  0105902             casa             otros          28   \n",
      "20200214  2800503  0105902            otros              casa           1   \n",
      "20200214  2800503  0200304            otros             otros           2   \n",
      "20200214  2800503  0200305             casa             otros          28   \n",
      "20200214  2800503  0200305             casa             otros          28   \n",
      "20200214  2800503  0200306             casa             otros          28   \n",
      "20200214  2800503  0200308            otros             otros           2   \n",
      "20200214  2800503  0200308            otros             otros          28   \n",
      "20200214  2800503  0200308            otros             otros          46   \n",
      "20200214  2800503    02009            otros             otros           2   \n",
      "\n",
      "          edad  periodo distancia  viajes  viajes_km  \n",
      "fecha                                                 \n",
      "20200214   NaN        8      100+   6.982   1863.386  \n",
      "20200214   NaN        3      100+  11.682   3152.679  \n",
      "20200214   NaN       12      100+   6.227   1316.325  \n",
      "20200214   NaN       17      100+   6.982   1476.922  \n",
      "20200214   NaN       19      100+   6.982   1474.364  \n",
      "20200214   NaN       12      100+   6.982   1497.748  \n",
      "20200214   NaN       13      100+  14.270   2932.045  \n",
      "20200214   NaN       23      100+   5.739   1158.273  \n",
      "20200214   NaN        7      100+   5.188   1116.096  \n",
      "20200214   NaN       20      100+   5.726   1512.014  \n"
     ]
    },
    {
     "name": "stderr",
     "output_type": "stream",
     "text": [
      "/tmp/ipykernel_18759/3650022891.py:42: FutureWarning: The frame.append method is deprecated and will be removed from pandas in a future version. Use pandas.concat instead.\n",
      "  filtrado=filtrado.append(filtrar)\n"
     ]
    },
    {
     "name": "stdout",
     "output_type": "stream",
     "text": [
      "           origen     destino actividad_origen actividad_destino  residencia  \\\n",
      "fecha                                                                          \n",
      "20200214  2800504     0200301            otros             otros           2   \n",
      "20200214  2800504     0200302            otros             otros           2   \n",
      "20200214  2800504    02069_AM            otros             otros          28   \n",
      "20200214  2800504     0301402            otros             otros          28   \n",
      "20200214  2800504     0303102            otros             otros          28   \n",
      "20200214  2800504       03047             casa             otros          28   \n",
      "20200214  2800504       03050            otros             otros          28   \n",
      "20200214  2800504    03058_AM             casa             otros          28   \n",
      "20200214  2800504     0306506          trabajo             otros          28   \n",
      "20200214  2800504  0501901_AD             casa             otros          28   \n",
      "\n",
      "          edad  periodo distancia  viajes  viajes_km  \n",
      "fecha                                                 \n",
      "20200214   NaN       13      100+   2.532    536.096  \n",
      "20200214   NaN       16      100+   7.948   1674.916  \n",
      "20200214   NaN       13      100+   6.211   1094.338  \n",
      "20200214   NaN        6      100+   5.819   2004.492  \n",
      "20200214   NaN       14      100+   5.482   1942.721  \n",
      "20200214   NaN       14      100+   6.577   2361.955  \n",
      "20200214   NaN       12      100+   6.372   2190.572  \n",
      "20200214   NaN        4      100+   6.577   2221.667  \n",
      "20200214   NaN       12      100+   7.691   2603.801  \n",
      "20200214   NaN        7      100+   6.577    745.190  \n"
     ]
    },
    {
     "name": "stderr",
     "output_type": "stream",
     "text": [
      "/tmp/ipykernel_18759/3650022891.py:42: FutureWarning: The frame.append method is deprecated and will be removed from pandas in a future version. Use pandas.concat instead.\n",
      "  filtrado=filtrado.append(filtrar)\n"
     ]
    },
    {
     "name": "stdout",
     "output_type": "stream",
     "text": [
      "           origen   destino actividad_origen actividad_destino  residencia  \\\n",
      "fecha                                                                        \n",
      "20200214  2800505   0105904             casa             otros          28   \n",
      "20200214  2800505   0200301            otros             otros          28   \n",
      "20200214  2800505   0200303             casa             otros          28   \n",
      "20200214  2800505   0200303             casa             otros          28   \n",
      "20200214  2800505   0200305             casa             otros          28   \n",
      "20200214  2800505   0200307             casa             otros          28   \n",
      "20200214  2800505  02024_AM             casa             otros          28   \n",
      "20200214  2800505  02067_AM             casa             otros          28   \n",
      "20200214  2800505  02073_AM            otros             otros          28   \n",
      "20200214  2800505   0301408            otros              casa           3   \n",
      "\n",
      "          edad  periodo distancia  viajes  viajes_km  \n",
      "fecha                                                 \n",
      "20200214   NaN       16      100+   6.372   1705.331  \n",
      "20200214   NaN       15      100+   6.577   1372.206  \n",
      "20200214   NaN       11      100+   6.372   1337.052  \n",
      "20200214   NaN       22      100+   6.372   1333.079  \n",
      "20200214   NaN       17      100+   6.372   1333.445  \n",
      "20200214   NaN        7      100+   6.372   1341.778  \n",
      "20200214   NaN       16      100+   6.372   1331.585  \n",
      "20200214   NaN       16      100+   6.372   1512.286  \n",
      "20200214   NaN       10      100+   6.857   1183.248  \n",
      "20200214   NaN       12      100+   5.403   1844.594  \n"
     ]
    },
    {
     "name": "stderr",
     "output_type": "stream",
     "text": [
      "/tmp/ipykernel_18759/3650022891.py:42: FutureWarning: The frame.append method is deprecated and will be removed from pandas in a future version. Use pandas.concat instead.\n",
      "  filtrado=filtrado.append(filtrar)\n"
     ]
    }
   ],
   "source": [
    "start = \"20200214\"\n",
    "end = \"20200215\"\n",
    "timeseries_o = concatenar(start,end)\n",
    "timeseries_o.to_csv(\"DataFiltrado_Madrid2.csv\")"
   ]
  }
 ],
 "metadata": {
  "kernelspec": {
   "display_name": "Python 3 (ipykernel)",
   "language": "python",
   "name": "python3"
  },
  "language_info": {
   "codemirror_mode": {
    "name": "ipython",
    "version": 3
   },
   "file_extension": ".py",
   "mimetype": "text/x-python",
   "name": "python",
   "nbconvert_exporter": "python",
   "pygments_lexer": "ipython3",
   "version": "3.9.7"
  }
 },
 "nbformat": 4,
 "nbformat_minor": 5
}
